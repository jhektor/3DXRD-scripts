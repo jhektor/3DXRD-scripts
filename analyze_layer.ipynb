{
 "metadata": {
  "language_info": {
   "codemirror_mode": {
    "name": "ipython",
    "version": 3
   },
   "file_extension": ".py",
   "mimetype": "text/x-python",
   "name": "python",
   "nbconvert_exporter": "python",
   "pygments_lexer": "ipython3",
   "version": "3.9.1-final"
  },
  "orig_nbformat": 2,
  "kernelspec": {
   "name": "python3",
   "display_name": "Python 3.9.1 64-bit ('3dxrd': venv)",
   "metadata": {
    "interpreter": {
     "hash": "e8096cbb08340b317edcff9ae239cead69862cf83af2d1d02a0b2a5052c0de67"
    }
   }
  }
 },
 "nbformat": 4,
 "nbformat_minor": 2,
 "cells": [
  {
   "source": [
    "# Analysis of one layer of 3DXRD data\n",
    "This notebook illustrates how to run 3DXRD analysis on one slice with the help of DDDXRD and Fable."
   ],
   "cell_type": "markdown",
   "metadata": {}
  },
  {
   "cell_type": "code",
   "execution_count": 14,
   "metadata": {},
   "outputs": [],
   "source": [
    "import dddxrd.peaksearch.median_image as mi\n",
    "import dddxrd.peaksearch.peaksearching as ps\n",
    "\n",
    "import matplotlib.pyplot as plt\n",
    "%matplotlib widget\n",
    "import numpy as np"
   ]
  },
  {
   "source": [
    "## Peaksearching\n",
    "The first step in the analysis is to search for diffraction peaks in all images. The peaks are identified based on the intensity values in the images by thresholding using one or more threshold values. The peaksearching is done using the peaksearch.py script from ImageD11. We use a .yaml file to pass parameters to the script. The result will be a bunch of *.flt and *.spt files (one for each threshold level) containing information about all identified peaks.\n",
    "\n",
    "### Computing a background image\n",
    "Before we can start looking for peaks we need to subtract the background. Typically there are a bunch of dark images in the dataset, so lets take the median of those and use as our background. The parameters for this are also set in a .yaml file."
   ],
   "cell_type": "markdown",
   "metadata": {}
  },
  {
   "cell_type": "code",
   "execution_count": 15,
   "metadata": {},
   "outputs": [
    {
     "output_type": "stream",
     "name": "stdout",
     "text": [
      "Looking for images in: dddxrd/tests\n",
      "Found 2 images\n",
      "Saved median image in /Users/al8720/code/DDDXRD/dddxrd/tests/median_dark.tif\n"
     ]
    },
    {
     "output_type": "display_data",
     "data": {
      "text/plain": "Canvas(toolbar=Toolbar(toolitems=[('Home', 'Reset original view', 'home', 'home'), ('Back', 'Back to previous …",
      "application/vnd.jupyter.widget-view+json": {
       "version_major": 2,
       "version_minor": 0,
       "model_id": "d20d139461b14436b5877a1215fee843"
      }
     },
     "metadata": {}
    },
    {
     "output_type": "execute_result",
     "data": {
      "text/plain": [
       "<matplotlib.image.AxesImage at 0x11df098b0>"
      ]
     },
     "metadata": {},
     "execution_count": 15
    }
   ],
   "source": [
    "# path to .yaml file containing parameter for median image\n",
    "yaml_path = 'dddxrd/tests/median_image.yaml'\n",
    "mimg = mi.median_image(yaml_path)\n",
    "plt.figure()\n",
    "plt.imshow(mimg,cmap=plt.cm.gray,vmin=np.mean(mimg)-2*np.std(mimg),vmax=np.mean(mimg)+2*np.std(mimg))"
   ]
  },
  {
   "source": [
    "### Finding diffraction spots\n",
    "We are now ready to look for diffraction spots. The peaksearch will be distributed on all available cpus, so it shouldn't take too long. The will be a lot of printout and it will probably raise an exception but it seems to work nonetheless."
   ],
   "cell_type": "markdown",
   "metadata": {}
  },
  {
   "cell_type": "code",
   "execution_count": 16,
   "metadata": {},
   "outputs": [
    {
     "output_type": "stream",
     "name": "stdout",
     "text": [
      "Running peaksearch with the following command:\npeaksearch.py -n dddxrd/tests/load_0N_ -F .tif -f 1 -l 2 -o dddxrd/tests/peaks/peaks -d dddxrd/tests/median_dark.tif -p Y --ndigits 5 -S 0.250 -T 0.125 -t 20000 -t 10000 -t 5000 --OmegaOverride \n"
     ]
    }
   ],
   "source": [
    "# path to .yaml file containing parameters for peaksearching\n",
    "yaml_path = 'dddxrd/tests/peaksearch.yaml'\n",
    "# run the peaksearch\n",
    "ps.run_peaksearch(yaml_path)"
   ]
  },
  {
   "source": [
    "### Merging the different thresholds\n",
    "We can now merge the spots from the different threshold levels. This works by selecting all peaks from the highest threshold and adding peaks from the lower thresholds if they are not already present. For the peaks found in both levels, the lower threshold version is discared if the centre of mass position is not within pixel_tol pixels from the high threshold peak. We want to do this step to separate peaks that are close to eachother on the detector. This step will create a new .flt file containing the merged peaks."
   ],
   "cell_type": "markdown",
   "metadata": {}
  },
  {
   "cell_type": "code",
   "execution_count": 17,
   "metadata": {},
   "outputs": [
    {
     "output_type": "stream",
     "name": "stdout",
     "text": [
      "Merging flt files matching dddxrd/tests/peaks/peaks\nmerge_flt.py dddxrd/tests/junk dddxrd/tests/peaks/peaks dddxrd/tests/peaks/merged_peaks.flt 10 20000 10000 5000 \n"
     ]
    }
   ],
   "source": [
    "yaml_path = 'dddxrd/tests/peaksearch.yaml'\n",
    "ps.merge_peaks(yaml_path)"
   ]
  },
  {
   "cell_type": "code",
   "execution_count": null,
   "metadata": {},
   "outputs": [],
   "source": []
  }
 ]
}
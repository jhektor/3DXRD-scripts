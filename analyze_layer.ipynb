{
 "metadata": {
  "language_info": {
   "codemirror_mode": {
    "name": "ipython",
    "version": 3
   },
   "file_extension": ".py",
   "mimetype": "text/x-python",
   "name": "python",
   "nbconvert_exporter": "python",
   "pygments_lexer": "ipython3",
   "version": "3.9.1-final"
  },
  "orig_nbformat": 2,
  "kernelspec": {
   "name": "python3",
   "display_name": "Python 3.9.1 64-bit ('3dxrd': venv)",
   "metadata": {
    "interpreter": {
     "hash": "e8096cbb08340b317edcff9ae239cead69862cf83af2d1d02a0b2a5052c0de67"
    }
   }
  }
 },
 "nbformat": 4,
 "nbformat_minor": 2,
 "cells": [
  {
   "source": [
    "# Analysis of one layer of 3DXRD data\n",
    "This notebook illustrates how to run 3DXRD analysis on one slice with the help of DDDXRD and Fable."
   ],
   "cell_type": "markdown",
   "metadata": {}
  },
  {
   "cell_type": "code",
   "execution_count": 1,
   "metadata": {},
   "outputs": [],
   "source": [
    "import dddxrd.peaksearch.median_image as mi\n",
    "import dddxrd.peaksearch.peaksearching as ps\n",
    "import dddxrd.indexing.indexing as idx\n",
    "import dddxrd.visualization.Grainmap as visu\n",
    "import matplotlib.pyplot as plt\n",
    "%matplotlib widget\n",
    "import numpy as np"
   ]
  },
  {
   "source": [
    "## Peaksearching\n",
    "The first step in the analysis is to search for diffraction peaks in all images. The peaks are identified based on the intensity values in the images by thresholding using one or more threshold values. The peaksearching is done using the peaksearch.py script from ImageD11. We use a .yaml file to pass parameters to the script. The result will be a bunch of *.flt and *.spt files (one for each threshold level) containing information about all identified peaks.\n",
    "\n",
    "### Computing a background image\n",
    "Before we can start looking for peaks we need to subtract the background. Typically there are a bunch of dark images in the dataset, so lets take the median of those and use as our background. The parameters for this are also set in a .yaml file."
   ],
   "cell_type": "markdown",
   "metadata": {}
  },
  {
   "cell_type": "code",
   "execution_count": 2,
   "metadata": {},
   "outputs": [
    {
     "output_type": "stream",
     "name": "stdout",
     "text": [
      "Looking for images in: dddxrd/tests\n",
      "Found 2 images\n",
      "Saved median image in /Users/al8720/code/DDDXRD/dddxrd/tests/median_dark.tif\n"
     ]
    },
    {
     "output_type": "display_data",
     "data": {
      "text/plain": "Canvas(toolbar=Toolbar(toolitems=[('Home', 'Reset original view', 'home', 'home'), ('Back', 'Back to previous …",
      "application/vnd.jupyter.widget-view+json": {
       "version_major": 2,
       "version_minor": 0,
       "model_id": "fdc0c58a72bc4a34a055221e83cd84d8"
      }
     },
     "metadata": {}
    },
    {
     "output_type": "execute_result",
     "data": {
      "text/plain": [
       "<matplotlib.image.AxesImage at 0x121152670>"
      ]
     },
     "metadata": {},
     "execution_count": 2
    }
   ],
   "source": [
    "# path to .yaml file containing parameter for median image\n",
    "yaml_path = 'dddxrd/tests/median_image.yaml'\n",
    "mimg = mi.median_image(yaml_path)\n",
    "plt.figure()\n",
    "plt.imshow(mimg,cmap=plt.cm.gray,vmin=np.mean(mimg)-2*np.std(mimg),vmax=np.mean(mimg)+2*np.std(mimg))"
   ]
  },
  {
   "source": [
    "### Finding diffraction spots\n",
    "We are now ready to look for diffraction spots. The peaksearch will be distributed on all available cpus, so it shouldn't take too long. The will be a lot of printout and it will probably raise an exception but it seems to work nonetheless."
   ],
   "cell_type": "markdown",
   "metadata": {}
  },
  {
   "cell_type": "code",
   "execution_count": 4,
   "metadata": {},
   "outputs": [
    {
     "output_type": "stream",
     "name": "stdout",
     "text": [
      "Running peaksearch with the following command:\npeaksearch.py -n dddxrd/tests/load_0N_ -F .tif -f 1 -l 2 -o dddxrd/tests/peaks/peaks -d dddxrd/tests/median_dark.tif -p Y --ndigits 5 -S -0.500 -T 358.560 -t 20000 -t 10000 -t 5000 --OmegaOverride \n"
     ]
    }
   ],
   "source": [
    "# path to .yaml file containing parameters for peaksearching\n",
    "yaml_path = 'dddxrd/tests/peaksearch.yaml'\n",
    "# run the peaksearch\n",
    "ps.run_peaksearch(yaml_path)"
   ]
  },
  {
   "source": [
    "### Merging the different thresholds\n",
    "We can now merge the spots from the different threshold levels. This works by selecting all peaks from the highest threshold and adding peaks from the lower thresholds if they are not already present. For the peaks found in both levels, the lower threshold version is discared if the centre of mass position is not within pixel_tol pixels from the high threshold peak. We want to do this step to separate peaks that are close to eachother on the detector. This step will create a new .flt file containing the merged peaks."
   ],
   "cell_type": "markdown",
   "metadata": {}
  },
  {
   "cell_type": "code",
   "execution_count": 5,
   "metadata": {},
   "outputs": [
    {
     "output_type": "stream",
     "name": "stdout",
     "text": [
      "Merging flt files matching dddxrd/tests/peaks/peaks\nmerge_flt.py dddxrd/tests/junk dddxrd/tests/peaks/peaks dddxrd/tests/peaks/merged_peaks.flt 10 20000 10000 5000 \n"
     ]
    }
   ],
   "source": [
    "yaml_path = 'dddxrd/tests/peaksearch.yaml'\n",
    "ps.merge_peaks(yaml_path)"
   ]
  },
  {
   "source": [
    "## Fitting the geometry and indexing the data\n",
    "We are now ready to fit the geometrical parameters of the measurement, i.e., the distance to the detector, the beam center position, and the detector tilts. To do this we fire up the *ImageD11_gui* and load the merged .flt file. The process for fitting the geometry and doing a \"manual\" indexation of the data is described here: https://imaged11.readthedocs.io/en/latest/_downloads/dd7bdff1e8c819ee92e40c22efa75f21/com_guide.pdf\n",
    "The most tricky thing in this step is to figure out the image flips (o11,o12,o21,o22), each of the paramter can take the values -1,0,1. These parameters descibes the mapping from the real world coordinates to the coordinates used by the detector when saving the data. There are 8 possible orientations. With a bit of luck, 4 of them can be eliminated by looking at the images in e.g. Fiji. What you are looking for is diffraction spots that are very long, i.e. does not dissapear when stepping through the images, in the rotation direction, they are most likely placed along the horizontal or the vertical axis of the images. The spots are long because the normal to that particular crystal plane is parallel to the rotation axis. Assuming that the rotation axis was vertical in the experiment; if the long spots are along the vertical direction you can deduce that o12=o21=0, i.e. the image is not rotated when saved. Similarly if the spots are on the horizontal axis o11=o22=0, i.e., the image is rotated 90 degrees in one direction when saved. There are now 4 possible combinations left. The best way I've found to find the correct one is to test them all and pick the one which gives the most convincing indexation. One useful thing to do is to 'write out indexed peaks' from the gui. This will create a text file containing the observed and computed angles for all indexed peaks.  \n",
    "\n",
    "There is also some useful info at the TIMEleSS wiki: http://multigrain.texture.rocks/doku.php?id=dac_experiments:geometry\n",
    "\n",
    "## Script based indexation\n",
    "When you have the geometry and the indexation paramters figured out you can process the data faster by indexing and mapping the grains using a script. The script is indexing on a grid to also try to catch grains far from the center of rotation (the same as setting t_x,t_y,t_z parameter in the gui). The parameters are again set in a .yaml file. The output will be a .map file containing the orientation and position of each grain."
   ],
   "cell_type": "markdown",
   "metadata": {}
  },
  {
   "source": [
    "yaml_path = 'dddxrd/tests/indexing.yaml'\n",
    "idx.index_and_map(yaml_path)\n"
   ],
   "cell_type": "code",
   "metadata": {
    "tags": [
     "outputPrepend"
    ]
   },
   "execution_count": 8,
   "outputs": [
    {
     "output_type": "stream",
     "name": "stderr",
     "text": [
      "ed 24 5.5053506768438746e-05 1.4370438052035812\n",
      "           matched 25 4.688764430130701e-05 1.314070654289557\n",
      "           matched 26 2.8978038473417905e-05 1.3802225372663763\n",
      "           matched 27 4.353408482428245e-05 0.824192597702003\n",
      "           matched 28 3.810547785496551e-05 1.3437372021192096\n",
      "           matched 29 1.8430439999894915e-05 2.727268243507939\n",
      "           matched 30 6.71176871862331e-05 1.2422825134840338\n",
      "           matched 31 1.698988104306101e-05 0.8742980576555913\n",
      "           matched 32 7.907437466102674e-05 1.4755544850781066\n",
      "           matched 33 4.886688901776624e-05 0.8460665979623574\n",
      "           matched 34 1.8548711416805456e-05 1.1170300281798171\n",
      "           matched 35 3.40226387745809e-05 1.01258887517043\n",
      "           matched 36 0.0 0.768269130567162\n",
      "           matched 37 0.0 0.8956644287914011\n",
      "           matched 38 4.122940033309676e-05 0.998392063676677\n",
      "Got    39 new 0 from 39\n",
      "           matched 0 0.00010649264863120937 3.08899888426813\n",
      "           matched 1 0.00012621419872839123 1.9663270616575306\n",
      "           matched 2 1.8860476299618448e-05 0.9783329653109777\n",
      "           matched 3 0.0 1.4832369103918506\n",
      "           matched 4 0.0 1.0383172184401566\n",
      "           matched 5 0.0 1.9728530346093736\n",
      "           matched 6 8.841402210169719e-05 1.7223604675619992\n",
      "           matched 7 1.2547858734911261e-05 0.6788245372258789\n",
      "           matched 8 8.009106731400786e-06 0.7996726674647436\n",
      "           matched 9 0.00015454953852494073 1.6396030569739408\n",
      "           matched 10 1.1643920115677384e-05 0.32693562819042593\n",
      "           matched 11 0.0 1.7434865134775723\n",
      "           matched 12 2.826493702772035e-05 0.9846130237826973\n",
      "           matched 13 6.657244917625946e-05 2.2077498259223516\n",
      "           matched 14 4.393410013373943e-05 1.5416625323850062\n",
      "           matched 15 3.0806916911985116e-05 1.4444654927855374\n",
      "           matched 16 3.90688910174926e-05 2.269748178838404\n",
      "           matched 17 2.465617878249081e-05 1.4053589455516624\n",
      "           matched 18 7.827758852007761e-05 1.3015310908458284\n",
      "           matched 19 3.346095662643044e-05 1.2330037123211808\n",
      "           matched 20 0.00010148061447720642 0.8231088392622593\n",
      "           matched 21 0.00019287349478786116 1.8565115901306888\n",
      "           matched 22 9.481885730720563e-05 1.9733060922878085\n",
      "           matched 23 0.00023649375889917338 3.8277720654658287\n",
      "           matched 24 3.45330068522745e-05 2.0160171003673986\n",
      "           matched 25 1.0526028440638427e-05 1.530055782214615\n",
      "           matched 26 6.0310512357123176e-05 1.5443504240851242\n",
      "           matched 27 1.4983666681503355e-05 0.9433985802885032\n",
      "           matched 28 4.6056320604107126e-05 1.6256268040438535\n",
      "           matched 29 2.077320937910124e-05 1.2440342354897862\n",
      "           matched 30 0.0 0.2756986917671495\n",
      "           matched 31 2.606457820835509e-05 2.792479463145867\n",
      "           matched 32 0.00010877491739550644 1.6621387118942301\n",
      "           matched 33 5.5488719128114365e-05 1.3150711723797937\n",
      "           matched 34 2.1598954627055457e-05 0.4655710069869494\n",
      "           matched 35 0.00013112584645269372 1.2258335443229038\n",
      "           matched 36 3.697934055154779e-05 1.58766449876798\n",
      "           matched 37 0.00011180849645457467 1.2345982101447674\n",
      "Got    39 new 0 from 38\n",
      "           matched 0 7.824964720612764e-06 1.4902228271654074\n",
      "           matched 1 9.501085292215794e-05 1.228906147698413\n",
      "           matched 2 0.00010360605638288624 2.2004864927415486\n",
      "           matched 3 2.659062909866448e-05 1.3112374560894302\n",
      "           matched 4 0.0 0.895758430811093\n",
      "           matched 5 1.2074182697257333e-06 1.1084399411524102\n",
      "           matched 6 7.246521702720399e-05 1.0160513952914028\n",
      "           matched 7 7.449878353908667e-05 1.6021259596558588\n",
      "           matched 8 0.00011719423403170716 2.194003838478454\n",
      "           matched 9 1.0663629423853027e-05 0.7542644384836512\n",
      "           matched 10 2.1497471115166028e-05 0.9135192262940588\n",
      "           matched 11 1.2074182697257333e-06 1.1727425540465346\n",
      "           matched 12 5.014784705913674e-05 2.0140294574073327\n",
      "           matched 13 3.20819009398706e-05 1.0477609565491788\n",
      "           matched 14 0.0 0.9147803117872165\n",
      "           matched 15 4.7259282698740904e-05 1.4197374751181795\n",
      "           matched 16 8.6159256073396e-05 1.54317031635307\n",
      "           matched 17 1.2663509647306462e-05 0.5859033026727998\n",
      "           matched 18 6.03950570239418e-05 1.8855401955448332\n",
      "           matched 19 7.948811469361623e-05 2.5536059830456983\n",
      "           matched 20 2.2845425764212974e-05 1.2925781223403263\n",
      "           matched 21 0.00010947628892411556 0.8942808548430178\n",
      "           matched 22 0.00020152675411777422 2.1010422965386244\n",
      "           matched 23 6.984265033641265e-05 2.4018447102983305\n",
      "           matched 24 3.419360788524891e-05 1.5374832523443995\n",
      "           matched 25 3.239843194058342e-05 0.7125557767699509\n",
      "           matched 26 0.00010662262204229229 1.1683805230616493\n",
      "           matched 27 8.233494873390622e-05 1.285191984713523\n",
      "           matched 28 2.468572484316022e-05 0.38729883060862275\n",
      "           matched 29 2.5613209387548028e-05 1.0131527725140441\n",
      "           matched 30 8.049052648686652e-05 2.397701072398805\n",
      "           matched 31 6.674740992259351e-05 2.346203645738948\n",
      "           matched 32 0.0 2.5403243457552436\n",
      "           matched 33 4.00455336570039e-06 1.2945116984285299\n",
      "           matched 34 6.940292308783222e-05 1.887130742102441\n",
      "           matched 35 4.8687560379812327e-05 1.8900421085687782\n",
      "           matched 36 2.4448356591142834e-05 1.2438533443991615\n",
      "           matched 37 3.7312936477239306e-05 1.4386546790668047\n",
      "           matched 38 1.846994795519993e-05 1.1906850817748995\n",
      "Got    39 new 0 from 39\n",
      "           matched 0 8.003644113920586e-05 2.794087919291562\n",
      "           matched 1 5.7653432178788306e-05 1.5778785299842677\n",
      "           matched 2 0.0 2.4868657430679484\n",
      "           matched 3 0.00012921632145558844 2.3362431543097553\n",
      "           matched 4 0.0 0.48952281861399605\n",
      "           matched 5 0.00011411220574024089 0.9893259244249224\n",
      "           matched 6 5.623251645203712e-05 1.2993383815172532\n",
      "           matched 7 0.00011763501379530422 2.1188896952594156\n",
      "           matched 8 3.509830126896545e-05 1.1636425542180857\n",
      "           matched 9 4.829673078902934e-06 0.6694261085940211\n",
      "           matched 10 0.0 0.610008746869531\n",
      "           matched 11 0.00010574392462350152 1.33976247314839\n",
      "           matched 12 6.857880678931548e-05 2.121043859852976\n",
      "           matched 13 0.0 0.7837842984978899\n",
      "           matched 14 0.00030297538556412965 2.9560315318595816\n",
      "           matched 15 2.9967333363006965e-05 0.569584213326648\n",
      "           matched 16 1.6108968939569464e-05 1.4810037786849968\n",
      "           matched 17 3.727384486202572e-05 1.3155831952013726\n",
      "           matched 18 1.2074182697257354e-05 0.6405879968706085\n",
      "           matched 19 2.426880686682541e-05 0.7392364366761849\n",
      "           matched 20 0.0068569144318251195 24.827532796164448\n",
      "           matched 21 1.1326587362040649e-05 1.04994407444939\n",
      "           matched 22 1.2074182697257333e-06 1.139175973582747\n",
      "           matched 23 0.00010345820355474172 0.6962522883230567\n",
      "           matched 24 1.463916852406315e-05 0.5496337299268442\n",
      "           matched 25 0.00018335671132288267 1.8783164513336192\n",
      "           matched 26 3.1853881696505914e-05 2.541277981392955\n",
      "           matched 27 8.28116426743887e-05 1.0955458360135757\n",
      "           matched 28 7.443026089337888e-06 0.37887464987013286\n",
      "           matched 29 0.00925010206035964 6.851256706781289\n",
      "           matched 30 2.2491710265994076e-05 1.3059946896164243\n",
      "           matched 31 2.9575586669421963e-06 1.29951485879107\n",
      "           matched 32 5.9360297407353194e-05 1.6273584386204845\n",
      "           matched 33 4.1930630891383725e-05 1.752149606226245\n",
      "           matched 34 1.9090959104164312e-05 1.0275948016708658\n",
      "           matched 35 9.652552040642667e-05 2.446818466924235\n",
      "           matched 36 0.0001562569054150547 1.6228015778685483\n",
      "           matched 37 9.734517300533532e-06 1.4333851785056793\n",
      "           matched 38 7.040397847728103e-06 0.618439907674673\n",
      "Got    39 new 0 from 39\n",
      "           matched 0 0.00013019418257087344 3.7021120192568997\n",
      "           matched 1 2.9427337181133195e-05 0.4893257660693587\n",
      "           matched 2 5.885467436226833e-05 1.217916853065972\n",
      "           matched 3 9.88314448090898e-06 0.7059199213654164\n",
      "           matched 4 0.00010042642938227682 1.3885143482106723\n",
      "           matched 5 5.65169779964049e-05 0.9110924092833351\n",
      "           matched 6 5.5998700402093326e-05 2.0013959265927337\n",
      "           matched 7 0.0001120169244513115 1.2150978560924166\n",
      "           matched 8 5.962983987574437e-05 2.074398942061777\n",
      "           matched 9 0.0 2.4748570657038917\n",
      "           matched 10 1.277811388052082e-05 0.6659759051637641\n",
      "           matched 11 6.25298129773101e-05 0.7219552273758437\n",
      "           matched 12 5.533085616490783e-06 0.24585926288246177\n",
      "           matched 13 5.254697626942969e-05 1.3210668405974513\n",
      "           matched 14 2.1497471115166028e-05 0.4418433674371942\n",
      "           matched 15 0.0 0.6679136853832789\n",
      "           matched 16 2.5269392327350652e-05 0.8837871316011148\n",
      "           matched 17 3.4150945850063763e-06 0.9575735888099114\n",
      "           matched 18 2.862370852062924e-05 1.7776256542005393\n",
      "           matched 19 7.701019358487171e-05 0.7737978978065511\n",
      "           matched 20 7.36624106594939e-05 1.0749084299910676\n",
      "           matched 21 0.0001093363745519166 0.9364072522924191\n",
      "           matched 22 2.532701929461308e-05 0.8877888789879755\n",
      "           matched 23 9.22944712566801e-05 1.1876560581717488\n",
      "           matched 24 6.38449169713385e-05 0.7951414871744676\n",
      "           matched 25 3.620241886093678e-05 0.9035140414686629\n",
      "           matched 26 5.172205565572596e-05 0.7855236318274825\n",
      "           matched 27 1.2074182697257333e-06 0.6477038933849715\n",
      "           matched 28 1.3660378340025536e-05 0.5411225306506035\n",
      "           matched 29 9.041942594489385e-05 2.1236380782237783\n",
      "           matched 30 7.229401135552393e-05 2.2095962491979693\n",
      "           matched 31 5.472149610117434e-05 1.920134394347055\n",
      "           matched 32 0.0 2.5436024365690226\n",
      "           matched 33 0.0 1.9984804875358486\n",
      "           matched 34 7.244509618354405e-06 0.9551827330961624\n",
      "           matched 35 4.629311558708613e-05 1.3216519495537855\n",
      "           matched 36 4.911981721466228e-05 1.8299771093804231\n",
      "           matched 37 3.2443398557561e-05 0.6100192240884329\n",
      "           matched 38 2.399696349200591e-05 1.4254106475210535\n",
      "Got    39 new 0 from 39\n",
      "           matched 0 7.678268882310508e-05 2.212917370883574\n",
      "           matched 1 7.636383641665695e-06 0.2558268642307321\n",
      "           matched 2 0.0 1.61687934495011\n",
      "           matched 3 4.329903598459062e-05 2.311494215531013\n",
      "           matched 4 0.0 0.9234442853957948\n",
      "           matched 5 6.136488802278278e-05 1.4354960865208173\n",
      "           matched 6 1.2194326777763662e-05 0.6337194491735918\n",
      "           matched 7 2.945209725045352e-05 1.235642370619176\n",
      "           matched 8 0.00010930970389057286 0.9573486479711916\n",
      "           matched 9 4.133534329233477e-05 1.4547597871069184\n",
      "           matched 10 1.2074182697257333e-06 0.6173534225672536\n",
      "           matched 11 4.829673078902934e-06 0.2954317685474952\n",
      "           matched 12 2.338155425277186e-05 0.8249302782547043\n",
      "           matched 13 8.537736462515945e-06 0.11841922060542347\n",
      "           matched 14 6.03950570239418e-05 1.1737197497242529\n",
      "           matched 15 0.0 1.1783017196694778\n",
      "           matched 16 4.586600441559621e-05 1.4754830681316358\n",
      "           matched 17 8.580318953420186e-05 1.1034036736019373\n",
      "           matched 18 1.7075472925031942e-05 0.4680573451672292\n",
      "           matched 19 4.241459484110813e-05 1.416228019268087\n",
      "           matched 20 8.295235924601376e-05 0.9034442941607431\n",
      "           matched 21 1.63782182658682e-05 0.755982981857795\n",
      "           matched 22 0.00012306192760301962 1.0709724948874877\n",
      "           matched 23 6.3890569402603996e-06 0.42979136302041343\n",
      "           matched 24 7.4508567344177e-05 1.1069039873864668\n",
      "           matched 25 2.4950064948509156e-05 0.688680418026977\n",
      "           matched 26 8.231724038899038e-05 1.4828394111955967\n",
      "           matched 27 1.698988104306101e-05 0.8623012638196699\n",
      "           matched 28 7.938717736440022e-05 1.3020119850755336\n",
      "           matched 29 4.112318444087658e-05 0.9361278310627306\n",
      "           matched 30 4.345028477579268e-05 1.7572976701179412\n",
      "           matched 31 3.9012878241710284e-05 1.209021585338617\n",
      "           matched 32 2.5839879375781124e-05 1.4634279916238184\n",
      "           matched 33 5.011876741212252e-05 0.8954847027901169\n",
      "           matched 34 1.1643920115677384e-05 1.2151810370318148\n",
      "           matched 35 0.0 1.4837901866446057\n",
      "           matched 36 1.835116892281229e-05 1.6167773886434407\n",
      "           matched 37 0.00012162004841669091 1.2714357075892833\n",
      "           matched 38 6.27276742108659e-05 1.8027555368857058\n",
      "Got    39 new 0 from 39\n",
      "           matched 0 5.402437851462355e-05 0.8071401686031299\n",
      "           matched 1 2.347489416183844e-05 1.9550630578754855\n",
      "           matched 2 0.0001393509248475533 1.2970506665245265\n",
      "           matched 3 6.712854677487893e-05 1.6502666711057723\n",
      "           matched 4 4.6040490969474196e-05 5.641919537533534\n",
      "           matched 5 0.00010158112589927496 1.7245063599735997\n",
      "           matched 6 0.0 0.6479345082858715\n",
      "           matched 7 2.9575586669422292e-05 0.9382876487958076\n",
      "           matched 8 0.00020471348589912796 2.24526558003778\n",
      "           matched 9 4.5611014229047886e-05 1.510029527660486\n",
      "           matched 10 0.0 0.4648798889420015\n",
      "           matched 11 1.63782182658682e-05 1.0828058595776149\n",
      "           matched 12 3.4278772669429496e-05 2.008673478912327\n",
      "           matched 13 2.5896236867758488e-05 1.0792284025268555\n",
      "           matched 14 0.0 0.9019313233964293\n",
      "           matched 15 2.2459278078588273e-05 0.7931142492471847\n",
      "           matched 16 3.4150945850063763e-06 1.0779334238478167\n",
      "           matched 17 5.5959636078956085e-05 0.8585449588389518\n",
      "           matched 18 0.0 0.435015995070754\n",
      "           matched 19 3.113641202699663e-05 1.193559518814139\n",
      "           matched 20 1.0866764427531615e-05 1.3300958748709633\n",
      "           matched 21 9.850638909441134e-05 1.5415114586890075\n",
      "           matched 22 6.338658429000884e-05 1.1390490817487409\n",
      "           matched 23 8.920198291794825e-05 1.3173702012984136\n",
      "           matched 24 2.7320756680051265e-05 0.4619065170041387\n",
      "           matched 25 5.709441698939716e-05 1.4424485246412646\n",
      "           matched 26 4.6040490969474196e-05 0.5926700186778602\n",
      "           matched 27 9.189079726375582e-05 1.6135887243306226\n",
      "           matched 28 6.524529043507671e-05 2.3923834073499406\n",
      "           matched 29 2.699869328381916e-06 0.17163340263629634\n",
      "           matched 30 7.824964720612764e-06 1.3322584667055524\n",
      "           matched 31 3.4150945850063763e-06 0.4638268731128429\n",
      "           matched 32 0.0 1.962770543197808\n",
      "           matched 33 5.399738656763834e-06 0.164312352415815\n",
      "           matched 34 2.4920832290610958e-05 1.086855909342916\n",
      "           matched 35 6.502146373618258e-06 0.6882723417524844\n",
      "           matched 36 0.00010133685379520143 1.3360892734545262\n",
      "           matched 37 3.302239302041128e-05 1.5707475468630945\n",
      "           matched 38 4.353408482428245e-05 1.5256477309871008\n",
      "Got    39 new 0 from 39\n",
      "           matched 0 6.672556491794278e-05 1.720206021796677\n",
      "           matched 1 0.00012196717587861998 2.3807731905586325\n",
      "           matched 2 0.0 1.6976741205642127\n",
      "           matched 3 3.465942462776385e-05 0.8705376276492164\n",
      "           matched 4 1.2074182697257333e-06 0.6390146503572195\n",
      "           matched 5 0.0 1.618097001555561\n",
      "           matched 6 0.00013195706286381838 1.5913804954056383\n",
      "           matched 7 9.756955710560014e-05 2.5905914409943365\n",
      "           matched 8 0.0001541150117330877 1.534215276477831\n",
      "           matched 9 6.156649318399953e-06 0.3634972994131824\n",
      "           matched 10 2.3225154141253322e-05 0.9914455365217314\n",
      "           matched 11 0.0 2.3106165601437207\n",
      "           matched 12 5.4628171518039706e-05 2.0229466292600167\n",
      "           matched 13 3.5777088966869455e-05 2.2381672623044633\n",
      "           matched 14 0.00012839007101141402 1.7973719145195886\n",
      "           matched 15 4.482108358771678e-05 1.6192091835514217\n",
      "           matched 16 6.121027133279013e-05 1.941128277136606\n",
      "           matched 17 5.1212187237449426e-05 0.49966051301013026\n",
      "           matched 18 8.030920044784161e-05 1.5430876207488453\n",
      "           matched 19 2.8547208494697696e-05 0.8423413344161279\n",
      "           matched 20 5.046661728295308e-05 1.9333883489447685\n",
      "           matched 21 2.8161591390912678e-05 1.0507438161744715\n",
      "           matched 22 4.339992707900877e-05 1.2861411051447929\n",
      "           matched 23 3.078324659200012e-05 1.1120815013870469\n",
      "           matched 24 3.7175935985634886e-05 1.0857547565656276\n",
      "           matched 25 0.0002471494064978595 1.7191129343579499\n",
      "           matched 26 1.6018213462801612e-05 0.5910111621415037\n",
      "           matched 27 3.818191820832846e-06 0.1941026224631716\n",
      "           matched 28 0.0 1.0967089264383565\n",
      "           matched 29 0.00011054308262376909 2.1481566129676217\n",
      "           matched 30 3.3893845988869584e-05 1.0270211258632433\n",
      "           matched 31 1.3819533748532954e-05 1.2083620600849874\n",
      "           matched 32 3.395830344041665e-05 1.288757542904167\n",
      "           matched 33 4.2276884754092465e-05 1.2421961793046807\n",
      "           matched 34 6.72262041320921e-05 0.8761483504946009\n",
      "           matched 35 9.507220963046152e-06 0.34776213370106207\n",
      "           matched 36 5.301652494189249e-05 1.7797506081201477\n",
      "           matched 37 2.656320193396637e-05 0.7866343057421917\n",
      "Got    39 new 0 from 38\n",
      "           matched 0 8.48635543543557e-05 1.8160293958231446\n",
      "           matched 1 0.0 1.952776567468525\n",
      "           matched 2 0.0 0.7010515494152878\n",
      "           matched 3 7.824964720612764e-06 0.1911668655372149\n",
      "           matched 4 6.434531229011238e-05 2.305402770190979\n",
      "           matched 5 2.0738089811501742e-05 0.590966377931563\n",
      "           matched 6 6.49990386747375e-05 2.1224372107635463\n",
      "           matched 7 0.0 1.4498453374877633\n",
      "           matched 8 1.2663509647306462e-05 1.273992162755861\n",
      "           matched 9 0.0001029850636643188 1.5706310923758602\n",
      "           matched 10 6.420922758587955e-05 2.121306110183217\n",
      "           matched 11 4.2294123036054115e-05 1.210374724090019\n",
      "           matched 12 1.782731711219369e-05 1.3706260538052437\n",
      "           matched 13 9.319830038969585e-05 3.1305565978473666\n",
      "           matched 14 8.700954633720312e-05 1.2260459811118045\n",
      "           matched 15 1.3660378340025536e-05 0.5407446207969809\n",
      "           matched 16 1.7455443435103742e-05 0.6958435599014986\n",
      "           matched 17 2.2099382890764463e-05 0.4524253340624137\n",
      "           matched 18 7.31659606665868e-05 0.9970096222339421\n",
      "           matched 19 0.00010459336987123721 1.2118030733332228\n",
      "           matched 20 1.2074182697257354e-05 0.42290034159951595\n",
      "           matched 21 8.706816964856289e-06 1.091347769974888\n",
      "           matched 22 4.9563012514816555e-05 1.5330412335468888\n",
      "           matched 23 1.7908907090463366e-05 0.8024324220362448\n",
      "           matched 24 8.622691156561379e-06 0.37815412569933887\n",
      "           matched 25 0.011294638284410852 6.930600856445906\n",
      "           matched 26 0.00010074529025770107 1.3527829354027687\n",
      "           matched 27 0.0 0.5795156732641624\n",
      "           matched 28 5.688977684356021e-05 1.2181126203818446\n",
      "           matched 29 1.2074182697257333e-06 2.0847445910328735\n",
      "           matched 30 2.1361409804484527e-05 1.0212286072102201\n",
      "           matched 31 8.272357326451726e-05 1.4049893520834507\n",
      "           matched 32 0.009252956312607124 14.776485196756713\n",
      "           matched 33 4.4379807843987665e-05 0.8917459943200151\n",
      "           matched 34 2.1258792350482307e-05 1.8257588561157907\n",
      "           matched 35 2.7320756680051265e-05 0.33693662448541767\n",
      "           matched 36 2.4027320194202514e-05 1.5551562755151955\n",
      "           matched 37 5.138270553581613e-05 0.9094881117476672\n",
      "           matched 38 2.5584734437791434e-05 1.4798559809788134\n",
      "Got    39 new 0 from 39\n"
     ]
    }
   ]
  },
  {
   "source": [
    "## Visualization of the result"
   ],
   "cell_type": "markdown",
   "metadata": {}
  },
  {
   "cell_type": "code",
   "execution_count": 11,
   "metadata": {},
   "outputs": [
    {
     "output_type": "display_data",
     "data": {
      "text/plain": "Canvas(toolbar=Toolbar(toolitems=[('Home', 'Reset original view', 'home', 'home'), ('Back', 'Back to previous …",
      "application/vnd.jupyter.widget-view+json": {
       "version_major": 2,
       "version_minor": 0,
       "model_id": "177da224d53040b9ac9a537843cdbf31"
      }
     },
     "metadata": {}
    },
    {
     "output_type": "stream",
     "name": "stdout",
     "text": [
      "(39, 3, 2)\n"
     ]
    },
    {
     "output_type": "display_data",
     "data": {
      "text/plain": "Canvas(toolbar=Toolbar(toolitems=[('Home', 'Reset original view', 'home', 'home'), ('Back', 'Back to previous …",
      "application/vnd.jupyter.widget-view+json": {
       "version_major": 2,
       "version_minor": 0,
       "model_id": "faf17d0c5ffd4b31b47a2c1405895668"
      }
     },
     "metadata": {}
    },
    {
     "output_type": "display_data",
     "data": {
      "text/plain": "Canvas(toolbar=Toolbar(toolitems=[('Home', 'Reset original view', 'home', 'home'), ('Back', 'Back to previous …",
      "application/vnd.jupyter.widget-view+json": {
       "version_major": 2,
       "version_minor": 0,
       "model_id": "cb9b166e840740f1ac5b191f8373aacf"
      }
     },
     "metadata": {}
    },
    {
     "output_type": "display_data",
     "data": {
      "text/plain": "Canvas(toolbar=Toolbar(toolitems=[('Home', 'Reset original view', 'home', 'home'), ('Back', 'Back to previous …",
      "application/vnd.jupyter.widget-view+json": {
       "version_major": 2,
       "version_minor": 0,
       "model_id": "e248bedcef4c42c2b33634f15ef4155f"
      }
     },
     "metadata": {}
    }
   ],
   "source": [
    "mapfile = 'alltest.map'\n",
    "gm=visu.Grainmap(mapfile)\n",
    "fig,ax = gm.plot_3d_map()\n",
    "\n",
    "view = ('top','side','front')\n",
    "cind = ([0,1],[0,2],[1,2])\n",
    "lab = (['x','y'],['x','z'],['y','z'])\n",
    "\n",
    "for v,c,l in zip(view,cind,lab):\n",
    "    fig,ax = gm.scatterplot(np.array([gm.com[:,c[0]],gm.com[:,c[1]]]).T,c=gm.rgb,s=gm.size/2,alpha=0.6,edgecolor='k',marker='o')"
   ]
  },
  {
   "cell_type": "code",
   "execution_count": null,
   "metadata": {},
   "outputs": [],
   "source": []
  }
 ]
}